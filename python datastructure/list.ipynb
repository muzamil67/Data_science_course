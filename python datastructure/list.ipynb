{
 "cells": [
  {
   "cell_type": "markdown",
   "id": "9c9eadba",
   "metadata": {},
   "source": [
    "## 1) List"
   ]
  },
  {
   "cell_type": "code",
   "execution_count": 12,
   "id": "ce34fb14",
   "metadata": {},
   "outputs": [],
   "source": [
    "l1=[1,'M',1.5,'u',3,1.5]"
   ]
  },
  {
   "cell_type": "code",
   "execution_count": 15,
   "id": "3b0ed9e3",
   "metadata": {},
   "outputs": [],
   "source": [
    "l2=list([1,'M',1.5,'u',3,1.5,'z','a'])"
   ]
  },
  {
   "cell_type": "code",
   "execution_count": 2,
   "id": "04773af4",
   "metadata": {},
   "outputs": [
    {
     "data": {
      "text/plain": [
       "1"
      ]
     },
     "execution_count": 2,
     "metadata": {},
     "output_type": "execute_result"
    }
   ],
   "source": [
    "l1[0]"
   ]
  },
  {
   "cell_type": "markdown",
   "id": "103239a6",
   "metadata": {},
   "source": [
    "# Methods"
   ]
  },
  {
   "cell_type": "code",
   "execution_count": 3,
   "id": "d1749b2e",
   "metadata": {},
   "outputs": [
    {
     "data": {
      "text/plain": [
       "5"
      ]
     },
     "execution_count": 3,
     "metadata": {},
     "output_type": "execute_result"
    }
   ],
   "source": [
    "len(l1)"
   ]
  },
  {
   "cell_type": "code",
   "execution_count": 5,
   "id": "b7962079",
   "metadata": {},
   "outputs": [],
   "source": [
    "l1.insert(2,4.5)"
   ]
  },
  {
   "cell_type": "code",
   "execution_count": 13,
   "id": "9d6d691c",
   "metadata": {},
   "outputs": [],
   "source": [
    "l1.remove(1.5)"
   ]
  },
  {
   "cell_type": "code",
   "execution_count": 16,
   "id": "bb6244fd",
   "metadata": {},
   "outputs": [],
   "source": [
    "l1.append(l2)"
   ]
  },
  {
   "cell_type": "code",
   "execution_count": 18,
   "id": "a17f1e6c",
   "metadata": {},
   "outputs": [],
   "source": [
    "l1.extend(l2) # does not add list to another list but the elements are added to the list"
   ]
  },
  {
   "cell_type": "code",
   "execution_count": 19,
   "id": "92814c9c",
   "metadata": {},
   "outputs": [
    {
     "data": {
      "text/plain": [
       "[1,\n",
       " 'M',\n",
       " 'u',\n",
       " 3,\n",
       " 1.5,\n",
       " [1, 'M', 1.5, 'u', 3, 1.5, 'z', 'a'],\n",
       " 1,\n",
       " 'M',\n",
       " 1.5,\n",
       " 'u',\n",
       " 3,\n",
       " 1.5,\n",
       " 'z',\n",
       " 'a']"
      ]
     },
     "execution_count": 19,
     "metadata": {},
     "output_type": "execute_result"
    }
   ],
   "source": [
    "l1"
   ]
  },
  {
   "cell_type": "code",
   "execution_count": 23,
   "id": "69a4a86f",
   "metadata": {},
   "outputs": [],
   "source": [
    "l3=[1,2,3,4,5]"
   ]
  },
  {
   "cell_type": "code",
   "execution_count": 24,
   "id": "45034d64",
   "metadata": {},
   "outputs": [],
   "source": [
    "del l3[1]"
   ]
  },
  {
   "cell_type": "code",
   "execution_count": 25,
   "id": "ec96a756",
   "metadata": {},
   "outputs": [
    {
     "data": {
      "text/plain": [
       "[1, 3, 4, 5]"
      ]
     },
     "execution_count": 25,
     "metadata": {},
     "output_type": "execute_result"
    }
   ],
   "source": [
    "l3"
   ]
  },
  {
   "cell_type": "markdown",
   "id": "4f859425",
   "metadata": {},
   "source": [
    "# delete the random or peticular item from the list"
   ]
  },
  {
   "cell_type": "code",
   "execution_count": 26,
   "id": "9a7b5f30",
   "metadata": {},
   "outputs": [
    {
     "data": {
      "text/plain": [
       "'a'"
      ]
     },
     "execution_count": 26,
     "metadata": {},
     "output_type": "execute_result"
    }
   ],
   "source": [
    "l1.pop()"
   ]
  },
  {
   "cell_type": "code",
   "execution_count": 27,
   "id": "65dc2a9b",
   "metadata": {},
   "outputs": [
    {
     "data": {
      "text/plain": [
       "[1,\n",
       " 'M',\n",
       " 'u',\n",
       " 3,\n",
       " 1.5,\n",
       " [1, 'M', 1.5, 'u', 3, 1.5, 'z', 'a'],\n",
       " 1,\n",
       " 'M',\n",
       " 1.5,\n",
       " 'u',\n",
       " 3,\n",
       " 1.5,\n",
       " 'z']"
      ]
     },
     "execution_count": 27,
     "metadata": {},
     "output_type": "execute_result"
    }
   ],
   "source": [
    "l1"
   ]
  },
  {
   "cell_type": "code",
   "execution_count": 29,
   "id": "d3f3a671",
   "metadata": {},
   "outputs": [
    {
     "data": {
      "text/plain": [
       "1"
      ]
     },
     "execution_count": 29,
     "metadata": {},
     "output_type": "execute_result"
    }
   ],
   "source": [
    "l1.pop(0)"
   ]
  },
  {
   "cell_type": "code",
   "execution_count": 30,
   "id": "5950f7d3",
   "metadata": {},
   "outputs": [
    {
     "data": {
      "text/plain": [
       "['M',\n",
       " 'u',\n",
       " 3,\n",
       " 1.5,\n",
       " [1, 'M', 1.5, 'u', 3, 1.5, 'z', 'a'],\n",
       " 1,\n",
       " 'M',\n",
       " 1.5,\n",
       " 'u',\n",
       " 3,\n",
       " 1.5]"
      ]
     },
     "execution_count": 30,
     "metadata": {},
     "output_type": "execute_result"
    }
   ],
   "source": [
    "l1"
   ]
  },
  {
   "cell_type": "code",
   "execution_count": 31,
   "id": "c93e174f",
   "metadata": {},
   "outputs": [
    {
     "data": {
      "text/plain": [
       "[1, 'M', 1.5, 'u', 3, 1.5, 'z', 'a']"
      ]
     },
     "execution_count": 31,
     "metadata": {},
     "output_type": "execute_result"
    }
   ],
   "source": [
    "l1.pop(4)"
   ]
  },
  {
   "cell_type": "code",
   "execution_count": 32,
   "id": "a00c0f5a",
   "metadata": {},
   "outputs": [
    {
     "data": {
      "text/plain": [
       "['M', 'u', 3, 1.5, 1, 'M', 1.5, 'u', 3, 1.5]"
      ]
     },
     "execution_count": 32,
     "metadata": {},
     "output_type": "execute_result"
    }
   ],
   "source": [
    "l1"
   ]
  },
  {
   "cell_type": "code",
   "execution_count": 33,
   "id": "856999a3",
   "metadata": {},
   "outputs": [
    {
     "name": "stdout",
     "output_type": "stream",
     "text": [
      "M\n",
      "u\n",
      "3\n",
      "1.5\n",
      "1\n",
      "M\n",
      "1.5\n",
      "u\n",
      "3\n",
      "1.5\n"
     ]
    }
   ],
   "source": [
    "for i in l1:\n",
    "    print(i)"
   ]
  },
  {
   "cell_type": "code",
   "execution_count": 41,
   "id": "3ff4de40",
   "metadata": {},
   "outputs": [
    {
     "name": "stdout",
     "output_type": "stream",
     "text": [
      "M is present in the list\n"
     ]
    }
   ],
   "source": [
    "if \"M\" in l1:\n",
    "    print(\"M is present in the list\")\n"
   ]
  },
  {
   "cell_type": "code",
   "execution_count": 42,
   "id": "1c7741d7",
   "metadata": {},
   "outputs": [],
   "source": [
    "l4 = [7,6,4,2,1]"
   ]
  },
  {
   "cell_type": "code",
   "execution_count": 43,
   "id": "89f59d42",
   "metadata": {},
   "outputs": [
    {
     "data": {
      "text/plain": [
       "[1, 2, 4, 6, 7]"
      ]
     },
     "execution_count": 43,
     "metadata": {},
     "output_type": "execute_result"
    }
   ],
   "source": [
    "sorted(l4)"
   ]
  },
  {
   "cell_type": "code",
   "execution_count": 44,
   "id": "b6318335",
   "metadata": {},
   "outputs": [
    {
     "data": {
      "text/plain": [
       "[7, 6, 4, 2, 1]"
      ]
     },
     "execution_count": 44,
     "metadata": {},
     "output_type": "execute_result"
    }
   ],
   "source": [
    "sorted(l4 , reverse=True)"
   ]
  },
  {
   "cell_type": "code",
   "execution_count": 45,
   "id": "bd437943",
   "metadata": {},
   "outputs": [],
   "source": [
    "l4.sort()"
   ]
  },
  {
   "cell_type": "code",
   "execution_count": 46,
   "id": "eb708469",
   "metadata": {},
   "outputs": [
    {
     "data": {
      "text/plain": [
       "[1, 2, 4, 6, 7]"
      ]
     },
     "execution_count": 46,
     "metadata": {},
     "output_type": "execute_result"
    }
   ],
   "source": [
    "l4"
   ]
  },
  {
   "cell_type": "code",
   "execution_count": 47,
   "id": "d6c6f718",
   "metadata": {},
   "outputs": [],
   "source": [
    "l4.sort(reverse=True)"
   ]
  },
  {
   "cell_type": "code",
   "execution_count": 48,
   "id": "eb003325",
   "metadata": {},
   "outputs": [
    {
     "data": {
      "text/plain": [
       "[7, 6, 4, 2, 1]"
      ]
     },
     "execution_count": 48,
     "metadata": {},
     "output_type": "execute_result"
    }
   ],
   "source": [
    "l4"
   ]
  },
  {
   "cell_type": "markdown",
   "id": "d79e9f36",
   "metadata": {},
   "source": [
    "# create list from string"
   ]
  },
  {
   "cell_type": "code",
   "execution_count": 49,
   "id": "26207bb7",
   "metadata": {},
   "outputs": [],
   "source": [
    "l5='one,two,three'"
   ]
  },
  {
   "cell_type": "code",
   "execution_count": 51,
   "id": "c591b82b",
   "metadata": {},
   "outputs": [],
   "source": [
    "new_list=l5.split(',')"
   ]
  },
  {
   "cell_type": "code",
   "execution_count": 52,
   "id": "49f1e563",
   "metadata": {},
   "outputs": [
    {
     "data": {
      "text/plain": [
       "['one', 'two', 'three']"
      ]
     },
     "execution_count": 52,
     "metadata": {},
     "output_type": "execute_result"
    }
   ],
   "source": [
    "new_list"
   ]
  },
  {
   "cell_type": "code",
   "execution_count": 54,
   "id": "2bb70322",
   "metadata": {},
   "outputs": [
    {
     "name": "stdout",
     "output_type": "stream",
     "text": [
      "[0, 1, 4, 9, 16]\n"
     ]
    }
   ],
   "source": [
    "squares=[]\n",
    "for i in range(5):\n",
    "    squares.append(i**2)\n",
    "print(squares)"
   ]
  },
  {
   "cell_type": "code",
   "execution_count": 56,
   "id": "5def2288",
   "metadata": {},
   "outputs": [],
   "source": [
    "squares1=[(i**2) for i in range(5)]"
   ]
  },
  {
   "cell_type": "code",
   "execution_count": 57,
   "id": "fc3733e7",
   "metadata": {},
   "outputs": [
    {
     "data": {
      "text/plain": [
       "[0, 1, 4, 9, 16]"
      ]
     },
     "execution_count": 57,
     "metadata": {},
     "output_type": "execute_result"
    }
   ],
   "source": [
    "squares1"
   ]
  },
  {
   "cell_type": "code",
   "execution_count": 58,
   "id": "d83a08d3",
   "metadata": {},
   "outputs": [],
   "source": [
    "new_list=[(i,i+1) for i in range(10)]"
   ]
  },
  {
   "cell_type": "code",
   "execution_count": 59,
   "id": "bb9a0b50",
   "metadata": {},
   "outputs": [
    {
     "data": {
      "text/plain": [
       "[(0, 1),\n",
       " (1, 2),\n",
       " (2, 3),\n",
       " (3, 4),\n",
       " (4, 5),\n",
       " (5, 6),\n",
       " (6, 7),\n",
       " (7, 8),\n",
       " (8, 9),\n",
       " (9, 10)]"
      ]
     },
     "execution_count": 59,
     "metadata": {},
     "output_type": "execute_result"
    }
   ],
   "source": [
    "new_list"
   ]
  },
  {
   "cell_type": "code",
   "execution_count": null,
   "id": "f9e0778e",
   "metadata": {},
   "outputs": [],
   "source": []
  },
  {
   "cell_type": "code",
   "execution_count": null,
   "id": "41dc06d6",
   "metadata": {},
   "outputs": [],
   "source": []
  }
 ],
 "metadata": {
  "kernelspec": {
   "display_name": "Python 3",
   "language": "python",
   "name": "python3"
  },
  "language_info": {
   "codemirror_mode": {
    "name": "ipython",
    "version": 3
   },
   "file_extension": ".py",
   "mimetype": "text/x-python",
   "name": "python",
   "nbconvert_exporter": "python",
   "pygments_lexer": "ipython3",
   "version": "3.8.3"
  }
 },
 "nbformat": 4,
 "nbformat_minor": 5
}
